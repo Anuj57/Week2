{
  "nbformat": 4,
  "nbformat_minor": 0,
  "metadata": {
    "colab": {
      "provenance": [],
      "authorship_tag": "ABX9TyM8UxQBzksgFdZ26gO0kTZu",
      "include_colab_link": true
    },
    "kernelspec": {
      "name": "python3",
      "display_name": "Python 3"
    },
    "language_info": {
      "name": "python"
    }
  },
  "cells": [
    {
      "cell_type": "markdown",
      "metadata": {
        "id": "view-in-github",
        "colab_type": "text"
      },
      "source": [
        "<a href=\"https://colab.research.google.com/github/Anuj57/Week2/blob/main/Week_2.ipynb\" target=\"_parent\"><img src=\"https://colab.research.google.com/assets/colab-badge.svg\" alt=\"Open In Colab\"/></a>"
      ]
    },
    {
      "cell_type": "markdown",
      "source": [
        "#SECTION A"
      ],
      "metadata": {
        "id": "sHkBzkvDLBzt"
      }
    },
    {
      "cell_type": "code",
      "execution_count": 1,
      "metadata": {
        "colab": {
          "base_uri": "https://localhost:8080/"
        },
        "id": "_oe426dQKuwX",
        "outputId": "9d23de5c-34cc-4011-ac5c-7ad3f9bfba4a"
      },
      "outputs": [
        {
          "output_type": "stream",
          "name": "stdout",
          "text": [
            "0\n"
          ]
        }
      ],
      "source": [
        "#1 Create a function that takes three integer arguments (a, b, c) and returns the amount of integers which are of equal value.\n",
        "\n",
        "def num(x,y,z,) :\n",
        "  if x == y and x == z:\n",
        "    return 3\n",
        "  elif x==y or x==z:\n",
        "    return 2\n",
        "  else:\n",
        "    return 0\n",
        "print(num(2,1,3))\n"
      ]
    },
    {
      "cell_type": "code",
      "source": [
        "#2 Write a function that converts a dictionary into a list of keys-values tuples.\n",
        "dict = { 'Anuj': 24, 'Vineet': 23, 'Kalpesh': 14 }\n",
        "list = [(a, b) for a, b in dict.items()]\n",
        "print(sorted(list))\n"
      ],
      "metadata": {
        "colab": {
          "base_uri": "https://localhost:8080/"
        },
        "id": "KVC7W0hRLGec",
        "outputId": "27680e9a-a04d-41ae-e004-7059614406bd"
      },
      "execution_count": 2,
      "outputs": [
        {
          "output_type": "stream",
          "name": "stdout",
          "text": [
            "[('Anuj', 24), ('Kalpesh', 14), ('Vineet', 23)]\n"
          ]
        }
      ]
    },
    {
      "cell_type": "code",
      "source": [
        "#3 Write a function that creates a dictionary with each (key, value) pair being the (lower case, upper case) versions of a letter, respectively.\n",
        "list = ['a','n','u','j']\n",
        "a = {}\n",
        "\n",
        "for letters in list:\n",
        "  b = letters.upper()\n",
        "  a.update({letters:b})\n",
        "print(a)\n"
      ],
      "metadata": {
        "colab": {
          "base_uri": "https://localhost:8080/"
        },
        "id": "pKiyDRRjLjU9",
        "outputId": "2fea3f9a-62e8-42fc-eea3-728645b8e903"
      },
      "execution_count": 4,
      "outputs": [
        {
          "output_type": "stream",
          "name": "stdout",
          "text": [
            "{'a': 'A', 'n': 'N', 'u': 'U', 'j': 'J'}\n"
          ]
        }
      ]
    },
    {
      "cell_type": "code",
      "source": [
        "#4 Write a function, that replaces all vowels in a string with a specified vowel.\n",
        "print(\"Enter the String: \")\n",
        "str = input()\n",
        "\n",
        "print(\"Enter a character: \")\n",
        "char = input()\n",
        "\n",
        "newstr = \"\"\n",
        "for i in range(len(str)):\n",
        "    if str[i]=='a' or str[i]=='e' or str[i]=='i' or str[i]=='o' or str[i]=='u':\n",
        "        newstr = newstr + char\n",
        "    else:\n",
        "        newstr = newstr + str[i]\n",
        "\n",
        "print(\"\\nOriginal String:\", str)\n",
        "print(\"New String:\", newstr)\n"
      ],
      "metadata": {
        "colab": {
          "base_uri": "https://localhost:8080/"
        },
        "id": "ok_awdvuLxMU",
        "outputId": "7070b739-9ce8-40cf-bdaf-9528e9a5ba27"
      },
      "execution_count": 5,
      "outputs": [
        {
          "output_type": "stream",
          "name": "stdout",
          "text": [
            "Enter the String: \n",
            "anuj\n",
            "Enter a character: \n",
            "@\n",
            "\n",
            "Original String: anuj\n",
            "New String: @n@j\n"
          ]
        }
      ]
    },
    {
      "cell_type": "code",
      "source": [
        "#5 Create a function that takes a string as input and capitalizes a letter if its ASCII code is even and returns its lower case version if its ASCII code is odd.\n",
        "def ascii(st):\n",
        "  res=[]\n",
        "  for index, c in enumerate(st):\n",
        "    if index%2==0:\n",
        "      res.append(c.upper())\n",
        "    else:\n",
        "      res.append(c.lower())\n",
        "  return''.join(res)\n",
        "print(ascii(\"Anuj\"))\n"
      ],
      "metadata": {
        "colab": {
          "base_uri": "https://localhost:8080/"
        },
        "id": "gx3SvIvZMClk",
        "outputId": "e49bd573-1e6d-4e84-c73e-e032cd520256"
      },
      "execution_count": 6,
      "outputs": [
        {
          "output_type": "stream",
          "name": "stdout",
          "text": [
            "AnUj\n"
          ]
        }
      ]
    },
    {
      "cell_type": "markdown",
      "source": [
        "#SECTION B"
      ],
      "metadata": {
        "id": "g97H4w-YM25Y"
      }
    },
    {
      "cell_type": "code",
      "source": [
        "def my_function():\n",
        "  print(\"Hello World\")\n",
        "\n",
        "my_function()\n"
      ],
      "metadata": {
        "colab": {
          "base_uri": "https://localhost:8080/"
        },
        "id": "obEoCuveM0d0",
        "outputId": "243b33f5-64c1-482d-8b0c-f99569b5ad9d"
      },
      "execution_count": 8,
      "outputs": [
        {
          "output_type": "stream",
          "name": "stdout",
          "text": [
            "Hello World\n"
          ]
        }
      ]
    },
    {
      "cell_type": "code",
      "source": [
        "def my_function(car = \"BMW\"):\n",
        "  print(\"I like \" + car)\n",
        "\n",
        "my_function(\"Audi\")\n",
        "my_function(\"Ferrari\")\n",
        "my_function()\n",
        "my_function(\"Mustang\")\n"
      ],
      "metadata": {
        "colab": {
          "base_uri": "https://localhost:8080/"
        },
        "id": "5Yl6uFXyNNoc",
        "outputId": "659a297d-a5ba-4de9-93eb-540c5327fcdf"
      },
      "execution_count": 9,
      "outputs": [
        {
          "output_type": "stream",
          "name": "stdout",
          "text": [
            "I like Audi\n",
            "I like Ferrari\n",
            "I like BMW\n",
            "I like Mustang\n"
          ]
        }
      ]
    },
    {
      "cell_type": "code",
      "source": [
        "def my_function(Bikes):\n",
        "  for x in Bikes:\n",
        "    print(x)\n",
        "\n",
        "Bikes = [\"Ninja\", \"Pulsar\", \"Ktm\"]\n",
        "\n",
        "my_function(Bikes)\n"
      ],
      "metadata": {
        "colab": {
          "base_uri": "https://localhost:8080/"
        },
        "id": "NNUzoE2iNzDL",
        "outputId": "f93438a0-23aa-4156-f06f-dac54051c370"
      },
      "execution_count": 10,
      "outputs": [
        {
          "output_type": "stream",
          "name": "stdout",
          "text": [
            "Ninja\n",
            "Pulsar\n",
            "Ktm\n"
          ]
        }
      ]
    },
    {
      "cell_type": "code",
      "source": [
        "# Python program to convert Celsius to Fahrenheit using function\n",
        "\n",
        "def convertTemp(c):\n",
        "   f = (c * 1.8) + 32\n",
        "   return f\n",
        "    \n",
        "\n",
        "celsius = float(input('Enter temperature in Celsius: '))\n",
        "\n",
        "\n",
        "fahrenheit = convertTemp(celsius)\n",
        "print('%0.1f degrees Celsius is equal to %0.1f degrees Fahrenheit' %(celsius, fahrenheit))\n"
      ],
      "metadata": {
        "colab": {
          "base_uri": "https://localhost:8080/"
        },
        "id": "28Hr5KeCOi_D",
        "outputId": "8e3090b8-a624-4339-8719-f705c1de72e1"
      },
      "execution_count": 13,
      "outputs": [
        {
          "output_type": "stream",
          "name": "stdout",
          "text": [
            "Enter temperature in Celsius: 20\n",
            "20.0 degrees Celsius is equal to 68.0 degrees Fahrenheit\n"
          ]
        }
      ]
    },
    {
      "cell_type": "code",
      "source": [
        "def kilometre_1(km):  \n",
        "    conversion_ratio_1= 0.621371  \n",
        "    miles_1 = km * conversion_ratio_1  \n",
        "    print (\"The speed value of car in Miles: \", miles_1)  \n",
        "km = float (input (\"Please enter the speed of car in Kilometres as a unit: \"))  \n",
        "kilometre_1(km)\n"
      ],
      "metadata": {
        "colab": {
          "base_uri": "https://localhost:8080/"
        },
        "id": "0BVi1KOsPNel",
        "outputId": "791f01b7-e1aa-4cac-961c-b205f70d1d9a"
      },
      "execution_count": 14,
      "outputs": [
        {
          "output_type": "stream",
          "name": "stdout",
          "text": [
            "Please enter the speed of car in Kilometres as a unit: 20\n",
            "The speed value of car in Miles:  12.42742\n"
          ]
        }
      ]
    }
  ]
}